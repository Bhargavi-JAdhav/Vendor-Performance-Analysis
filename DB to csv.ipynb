{
 "cells": [
  {
   "cell_type": "code",
   "execution_count": 1,
   "id": "9cde2b96-ae4d-4f79-be08-7e10546b74ea",
   "metadata": {},
   "outputs": [],
   "source": [
    "import sqlite3\n",
    "import pandas as pd\n"
   ]
  },
  {
   "cell_type": "code",
   "execution_count": 2,
   "id": "011b5675-917b-4172-8244-b3dff3c3c4bf",
   "metadata": {},
   "outputs": [],
   "source": [
    "conn=sqlite3.connect(\"inventory.db\")"
   ]
  },
  {
   "cell_type": "code",
   "execution_count": 3,
   "id": "fe9b6dcb-608b-4a5f-a2a6-69fb0f5237c3",
   "metadata": {},
   "outputs": [
    {
     "name": "stdout",
     "output_type": "stream",
     "text": [
      "                     name\n",
      "0         begin_inventory\n",
      "1           end_inventory\n",
      "2               purchases\n",
      "3         purchase_prices\n",
      "4                   sales\n",
      "5          vendor_invoice\n",
      "6    vendor_sales_summary\n",
      "7  vendor_sales_summaries\n"
     ]
    }
   ],
   "source": [
    "tables=pd.read_sql(\"select name from sqlite_master where type='table';\",conn)\n",
    "print(tables)"
   ]
  },
  {
   "cell_type": "code",
   "execution_count": 4,
   "id": "762348bf-d9cd-40a4-9008-2d578645a3ec",
   "metadata": {},
   "outputs": [
    {
     "name": "stdout",
     "output_type": "stream",
     "text": [
      "Exported vendor_sales_summaries.csv successfully.\n"
     ]
    }
   ],
   "source": [
    "table_name = 'vendor_sales_summaries'\n",
    "df = pd.read_sql(f\"SELECT * FROM {table_name}\", conn)\n",
    "\n",
    "# Export to CSV\n",
    "df.to_csv(f\"{table_name}.csv\", index=False)\n",
    "\n",
    "print(f\"Exported {table_name}.csv successfully.\")"
   ]
  },
  {
   "cell_type": "code",
   "execution_count": 5,
   "id": "4736ad0a-4b59-4708-aa88-a2078cba1c03",
   "metadata": {},
   "outputs": [
    {
     "name": "stdout",
     "output_type": "stream",
     "text": [
      "C:\\Users\\btn9n\\Vendor Performance Analysis\n"
     ]
    }
   ],
   "source": [
    "import os\n",
    "print(os.getcwd())"
   ]
  },
  {
   "cell_type": "code",
   "execution_count": null,
   "id": "95959a10-5f52-488e-accf-4b54a38b1b34",
   "metadata": {},
   "outputs": [],
   "source": []
  }
 ],
 "metadata": {
  "kernelspec": {
   "display_name": "Python 3 (ipykernel)",
   "language": "python",
   "name": "python3"
  },
  "language_info": {
   "codemirror_mode": {
    "name": "ipython",
    "version": 3
   },
   "file_extension": ".py",
   "mimetype": "text/x-python",
   "name": "python",
   "nbconvert_exporter": "python",
   "pygments_lexer": "ipython3",
   "version": "3.12.9"
  }
 },
 "nbformat": 4,
 "nbformat_minor": 5
}
